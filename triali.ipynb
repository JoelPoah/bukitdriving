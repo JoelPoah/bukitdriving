{
 "cells": [
  {
   "cell_type": "code",
   "execution_count": 1,
   "metadata": {},
   "outputs": [
    {
     "name": "stdout",
     "output_type": "stream",
     "text": [
      "False\n"
     ]
    }
   ],
   "source": [
    "print('1'==1)"
   ]
  },
  {
   "cell_type": "code",
   "execution_count": 2,
   "metadata": {},
   "outputs": [
    {
     "name": "stdout",
     "output_type": "stream",
     "text": [
      "2\n"
     ]
    }
   ],
   "source": [
    "'''\n",
    "if return on first iteration what happens\n",
    "'''\n",
    "\n",
    "def iterate():\n",
    "    for i in range(3):\n",
    "        if i==2:\n",
    "            return i\n",
    "        else:\n",
    "            continue\n",
    "\n",
    "print(iterate())"
   ]
  },
  {
   "cell_type": "code",
   "execution_count": 20,
   "metadata": {},
   "outputs": [
    {
     "data": {
      "text/plain": [
       "20"
      ]
     },
     "execution_count": 20,
     "metadata": {},
     "output_type": "execute_result"
    }
   ],
   "source": [
    "from datetime import datetime, timedelta\n",
    "l = datetime.strptime('12:20','%H:%M')\n",
    "# change l year and month to today\n",
    "l = l.replace(year=datetime.now().year, month=datetime.now().month)\n",
    "l.minute"
   ]
  },
  {
   "cell_type": "code",
   "execution_count": 37,
   "metadata": {},
   "outputs": [
    {
     "name": "stdout",
     "output_type": "stream",
     "text": [
      "2024-04-15 12:18:13.238675\n",
      "1900-01-01 15:20:00\n",
      "1900-01-01 13:20:00\n",
      "False\n"
     ]
    }
   ],
   "source": [
    "\n",
    "date_now = datetime.now()\n",
    "print(date_now)\n",
    "\n",
    "start_time =\"13:20\"\n",
    "start_time = datetime.strptime(start_time,'%H:%M')\n",
    "start_time = start_time.replace(year=datetime.now().year, month=datetime.now().month, day=date_now.day)\n",
    "print(start_time)\n",
    "# minus 2 hours from start_time\n",
    "start_time = start_time - timedelta(hours=2)\n",
    "print(start_time)\n",
    "\n",
    "print(date_now < start_time)"
   ]
  },
  {
   "cell_type": "markdown",
   "metadata": {},
   "source": [
    "## this is more for time filtering"
   ]
  },
  {
   "cell_type": "code",
   "execution_count": 47,
   "metadata": {},
   "outputs": [
    {
     "name": "stdout",
     "output_type": "stream",
     "text": [
      "2024-04-15 19:20:00\n",
      "2024-04-01 20:01:00\n",
      "True\n"
     ]
    }
   ],
   "source": [
    "# if start_time is between 630pm and 9pm \n",
    "start_time =\"19:20\"\n",
    "start_time = datetime.strptime(start_time,'%H:%M')\n",
    "start_time = start_time.replace(year=datetime.now().year, month=datetime.now().month, day=date_now.day)\n",
    "print(start_time)\n",
    "\n",
    "# if start_time is between 630pm and 9pm regardless of date\n",
    "start_time =\"20:01\"\n",
    "start_time = datetime.strptime(start_time,'%H:%M')\n",
    "start_time = start_time.replace(year=datetime.now().year, month=datetime.now().month)\n",
    "print(start_time)\n",
    "\n",
    "if start_time.time() >= datetime.strptime('18:30','%H:%M').time() and start_time.time() <= datetime.strptime('21:00','%H:%M').time():\n",
    "    print('True')\n",
    "else:\n",
    "    print('False')\n",
    "\n",
    "    "
   ]
  },
  {
   "cell_type": "code",
   "execution_count": 12,
   "metadata": {},
   "outputs": [
    {
     "name": "stdout",
     "output_type": "stream",
     "text": [
      "2024-04-15 12:12:08.142860\n",
      "true\n"
     ]
    }
   ],
   "source": [
    "\n",
    "\n",
    "\n",
    "\n",
    "# if time now is less than 2 hour before start time return false\n",
    "if date_now < datetime.strptime(start_time,'%H:%M') - timedelta(hours=2):\n",
    "    print('false')\n",
    "else:\n",
    "    print('true')\n"
   ]
  },
  {
   "cell_type": "code",
   "execution_count": 11,
   "metadata": {},
   "outputs": [
    {
     "name": "stdout",
     "output_type": "stream",
     "text": [
      "True\n"
     ]
    }
   ],
   "source": [
    "from datetime import datetime, timedelta\n",
    "# hard code a variable called future_date of time data to be 18 September 10am\n",
    "future_date = datetime.strptime('16/09/2024 07:00','%d/%m/%Y %H:%M')\n",
    "future_date = future_date.time()\n",
    "\n",
    "start_time = datetime.strptime('11:10','%H:%M') - timedelta(hours=2)\n",
    "\n",
    "print(future_date<=(start_time.time()))\n"
   ]
  },
  {
   "cell_type": "code",
   "execution_count": 12,
   "metadata": {},
   "outputs": [
    {
     "name": "stdout",
     "output_type": "stream",
     "text": [
      "0 l\n",
      "1 p\n",
      "2 c\n"
     ]
    }
   ],
   "source": [
    "letter_list=['l','p','c']\n",
    "\n",
    "for index,value in enumerate(letter_list):\n",
    "    print(index,value)"
   ]
  },
  {
   "cell_type": "code",
   "execution_count": 2,
   "metadata": {},
   "outputs": [
    {
     "name": "stdout",
     "output_type": "stream",
     "text": [
      "<class 'datetime.datetime'>\n",
      "<class 'datetime.datetime'>\n",
      "true\n"
     ]
    }
   ],
   "source": [
    "from datetime import datetime, timedelta\n",
    "# date_now = datetime.now()\n",
    "date_now = datetime.strptime('16/04/2024 10:58','%d/%m/%Y %H:%M')\n",
    "\n",
    "\n",
    "\n",
    "date = '2024-04-16 00:00:00'\n",
    "date = datetime.strptime(date, '%Y-%m-%d %H:%M:%S')\n",
    "\n",
    "start_time =\"15:20:00\"\n",
    "start_time = datetime.strptime(start_time,'%H:%M:%S')\n",
    "start_time = start_time.replace(year=date.year, month=date.month, day=date.day,hour=start_time.hour,minute=start_time.minute)\n",
    "start_time_minus_2hours = start_time - timedelta(hours=2)\n",
    "print(type(start_time))\n",
    "print(type(date_now))\n",
    "\n",
    "if date_now <= start_time_minus_2hours:\n",
    "    print('true')\n",
    "else:\n",
    "    print('false')\n"
   ]
  }
 ],
 "metadata": {
  "kernelspec": {
   "display_name": "gpu_env",
   "language": "python",
   "name": "python3"
  },
  "language_info": {
   "codemirror_mode": {
    "name": "ipython",
    "version": 3
   },
   "file_extension": ".py",
   "mimetype": "text/x-python",
   "name": "python",
   "nbconvert_exporter": "python",
   "pygments_lexer": "ipython3",
   "version": "3.8.13"
  }
 },
 "nbformat": 4,
 "nbformat_minor": 2
}
